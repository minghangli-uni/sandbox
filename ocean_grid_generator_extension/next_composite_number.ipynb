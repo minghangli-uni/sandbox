{
 "cells": [
  {
   "cell_type": "code",
   "execution_count": 1,
   "id": "460cce60-289c-4286-a4fd-814ee98f7e37",
   "metadata": {},
   "outputs": [],
   "source": [
    "    def next_composite_number(n,min_n=120, max_n=4000, divisor=12):\n",
    "        \"\"\"\n",
    "        Find the next composite number >= n from a precomputed list of\n",
    "        numbers between min_n and max_n that are divisible by `divisor`.\n",
    "        \"\"\"\n",
    "        def get_divisors(k):\n",
    "            divisors = set()\n",
    "            for i in range(1, int(k**0.5)+1):\n",
    "                if k % i == 0:\n",
    "                    divisors.add(i)\n",
    "                    divisors.add(k//i)\n",
    "            return sorted(divisors)\n",
    "\n",
    "        cs = [(val, get_divisors(val)) for val in range(min_n, max_n+1, divisor)]\n",
    "\n",
    "        for val, divisors in cs:\n",
    "            if val >= n:\n",
    "                pad = val - n\n",
    "                if pad > divisor:\n",
    "                    raise ValueError(f\"Target NY is too small ({n} << {min_n}) for the pad list \"\n",
    "                                     f\"(padding = {pad}) - please reduce the table or adjust base NY.\")\n",
    "                print(f\"Selected NYGLOBAL = {val}\")\n",
    "                print(f\"Divisors of {val}: {divisors}\")\n",
    "                return val\n",
    "\n",
    "        raise ValueError(f\"Target NY is too large ({n} >> {max_n}) for the pad list - please extend the table!\")\n"
   ]
  },
  {
   "cell_type": "code",
   "execution_count": 2,
   "id": "2a9138b0-2fc0-4a50-b12c-531d68484c4e",
   "metadata": {},
   "outputs": [
    {
     "ename": "ValueError",
     "evalue": "Target NY is too large (10000 >> 4000) for the pad list - please extend the table!",
     "output_type": "error",
     "traceback": [
      "\u001b[0;31m---------------------------------------------------------------------------\u001b[0m",
      "\u001b[0;31mValueError\u001b[0m                                Traceback (most recent call last)",
      "Cell \u001b[0;32mIn[2], line 1\u001b[0m\n\u001b[0;32m----> 1\u001b[0m a \u001b[38;5;241m=\u001b[39m \u001b[43mnext_composite_number\u001b[49m\u001b[43m(\u001b[49m\u001b[43mn\u001b[49m\u001b[38;5;241;43m=\u001b[39;49m\u001b[38;5;241;43m10000\u001b[39;49m\u001b[43m)\u001b[49m\n",
      "Cell \u001b[0;32mIn[1], line 26\u001b[0m, in \u001b[0;36mnext_composite_number\u001b[0;34m(n, min_n, max_n, divisor)\u001b[0m\n\u001b[1;32m     23\u001b[0m         \u001b[38;5;28mprint\u001b[39m(\u001b[38;5;124mf\u001b[39m\u001b[38;5;124m\"\u001b[39m\u001b[38;5;124mDivisors of \u001b[39m\u001b[38;5;132;01m{\u001b[39;00mval\u001b[38;5;132;01m}\u001b[39;00m\u001b[38;5;124m: \u001b[39m\u001b[38;5;132;01m{\u001b[39;00mdivisors\u001b[38;5;132;01m}\u001b[39;00m\u001b[38;5;124m\"\u001b[39m)\n\u001b[1;32m     24\u001b[0m         \u001b[38;5;28;01mreturn\u001b[39;00m val\n\u001b[0;32m---> 26\u001b[0m \u001b[38;5;28;01mraise\u001b[39;00m \u001b[38;5;167;01mValueError\u001b[39;00m(\u001b[38;5;124mf\u001b[39m\u001b[38;5;124m\"\u001b[39m\u001b[38;5;124mTarget NY is too large (\u001b[39m\u001b[38;5;132;01m{\u001b[39;00mn\u001b[38;5;132;01m}\u001b[39;00m\u001b[38;5;124m >> \u001b[39m\u001b[38;5;132;01m{\u001b[39;00mmax_n\u001b[38;5;132;01m}\u001b[39;00m\u001b[38;5;124m) for the pad list - please extend the table!\u001b[39m\u001b[38;5;124m\"\u001b[39m)\n",
      "\u001b[0;31mValueError\u001b[0m: Target NY is too large (10000 >> 4000) for the pad list - please extend the table!"
     ]
    }
   ],
   "source": [
    "a = next_composite_number(n=10000)"
   ]
  },
  {
   "cell_type": "code",
   "execution_count": 4,
   "id": "33e1b000-6f6f-4539-89a0-e944b0b36811",
   "metadata": {},
   "outputs": [
    {
     "ename": "ValueError",
     "evalue": "Target NY is too small (20 << 120) for the pad list (padding = 100) - please reduce the table or adjust base NY.",
     "output_type": "error",
     "traceback": [
      "\u001b[0;31m---------------------------------------------------------------------------\u001b[0m",
      "\u001b[0;31mValueError\u001b[0m                                Traceback (most recent call last)",
      "Cell \u001b[0;32mIn[4], line 1\u001b[0m\n\u001b[0;32m----> 1\u001b[0m a \u001b[38;5;241m=\u001b[39m \u001b[43mnext_composite_number\u001b[49m\u001b[43m(\u001b[49m\u001b[43mn\u001b[49m\u001b[38;5;241;43m=\u001b[39;49m\u001b[38;5;241;43m20\u001b[39;49m\u001b[43m)\u001b[49m\n",
      "Cell \u001b[0;32mIn[1], line 20\u001b[0m, in \u001b[0;36mnext_composite_number\u001b[0;34m(n, min_n, max_n, divisor)\u001b[0m\n\u001b[1;32m     18\u001b[0m pad \u001b[38;5;241m=\u001b[39m val \u001b[38;5;241m-\u001b[39m n\n\u001b[1;32m     19\u001b[0m \u001b[38;5;28;01mif\u001b[39;00m pad \u001b[38;5;241m>\u001b[39m divisor:\n\u001b[0;32m---> 20\u001b[0m     \u001b[38;5;28;01mraise\u001b[39;00m \u001b[38;5;167;01mValueError\u001b[39;00m(\u001b[38;5;124mf\u001b[39m\u001b[38;5;124m\"\u001b[39m\u001b[38;5;124mTarget NY is too small (\u001b[39m\u001b[38;5;132;01m{\u001b[39;00mn\u001b[38;5;132;01m}\u001b[39;00m\u001b[38;5;124m << \u001b[39m\u001b[38;5;132;01m{\u001b[39;00mmin_n\u001b[38;5;132;01m}\u001b[39;00m\u001b[38;5;124m) for the pad list \u001b[39m\u001b[38;5;124m\"\u001b[39m\n\u001b[1;32m     21\u001b[0m                      \u001b[38;5;124mf\u001b[39m\u001b[38;5;124m\"\u001b[39m\u001b[38;5;124m(padding = \u001b[39m\u001b[38;5;132;01m{\u001b[39;00mpad\u001b[38;5;132;01m}\u001b[39;00m\u001b[38;5;124m) - please reduce the table or adjust base NY.\u001b[39m\u001b[38;5;124m\"\u001b[39m)\n\u001b[1;32m     22\u001b[0m \u001b[38;5;28mprint\u001b[39m(\u001b[38;5;124mf\u001b[39m\u001b[38;5;124m\"\u001b[39m\u001b[38;5;124mSelected NYGLOBAL = \u001b[39m\u001b[38;5;132;01m{\u001b[39;00mval\u001b[38;5;132;01m}\u001b[39;00m\u001b[38;5;124m\"\u001b[39m)\n\u001b[1;32m     23\u001b[0m \u001b[38;5;28mprint\u001b[39m(\u001b[38;5;124mf\u001b[39m\u001b[38;5;124m\"\u001b[39m\u001b[38;5;124mDivisors of \u001b[39m\u001b[38;5;132;01m{\u001b[39;00mval\u001b[38;5;132;01m}\u001b[39;00m\u001b[38;5;124m: \u001b[39m\u001b[38;5;132;01m{\u001b[39;00mdivisors\u001b[38;5;132;01m}\u001b[39;00m\u001b[38;5;124m\"\u001b[39m)\n",
      "\u001b[0;31mValueError\u001b[0m: Target NY is too small (20 << 120) for the pad list (padding = 100) - please reduce the table or adjust base NY."
     ]
    }
   ],
   "source": [
    "a = next_composite_number(n=20)"
   ]
  },
  {
   "cell_type": "code",
   "execution_count": 5,
   "id": "b42e0a88-c2d7-40b1-91d1-2d6a008b7484",
   "metadata": {},
   "outputs": [
    {
     "name": "stdout",
     "output_type": "stream",
     "text": [
      "Selected NYGLOBAL = 1152\n",
      "Divisors of 1152: [1, 2, 3, 4, 6, 8, 9, 12, 16, 18, 24, 32, 36, 48, 64, 72, 96, 128, 144, 192, 288, 384, 576, 1152]\n"
     ]
    }
   ],
   "source": [
    "test = next_composite_number(1142)"
   ]
  }
 ],
 "metadata": {
  "kernelspec": {
   "display_name": "Python [conda env:analysis3-25.05] *",
   "language": "python",
   "name": "conda-env-analysis3-25.05-py"
  },
  "language_info": {
   "codemirror_mode": {
    "name": "ipython",
    "version": 3
   },
   "file_extension": ".py",
   "mimetype": "text/x-python",
   "name": "python",
   "nbconvert_exporter": "python",
   "pygments_lexer": "ipython3",
   "version": "3.11.12"
  }
 },
 "nbformat": 4,
 "nbformat_minor": 5
}
